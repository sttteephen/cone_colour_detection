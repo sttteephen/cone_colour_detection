{
  "cells": [
    {
      "cell_type": "code",
      "execution_count": 1,
      "metadata": {
        "id": "oyE8IqT0dfDs"
      },
      "outputs": [
        {
          "name": "stderr",
          "output_type": "stream",
          "text": [
            "2023-04-19 03:14:05.379741: I tensorflow/core/platform/cpu_feature_guard.cc:193] This TensorFlow binary is optimized with oneAPI Deep Neural Network Library (oneDNN) to use the following CPU instructions in performance-critical operations:  AVX2 FMA\n",
            "To enable them in other operations, rebuild TensorFlow with the appropriate compiler flags.\n"
          ]
        }
      ],
      "source": [
        "from keras.models import Sequential\n",
        "from keras.layers import Dense\n",
        "from keras.layers import Dropout\n",
        "from keras.layers import Flatten\n",
        "from keras.layers.convolutional import Conv2D\n",
        "from keras.layers.convolutional import MaxPooling2D\n",
        "from keras.utils import np_utils\n",
        "import numpy as np\n",
        "import pandas as pd\n",
        "import os\n",
        "import cv2\n",
        "from sklearn.model_selection import train_test_split"
      ]
    },
    {
      "cell_type": "code",
      "execution_count": 2,
      "metadata": {
        "id": "EWfb3ToFf5Ih"
      },
      "outputs": [],
      "source": [
        "colour_ints = {\"blue_cone\": 0,\n",
        "               \"yellow_cone\": 1,\n",
        "               \"orange_cone\": 2,\n",
        "               \"large_orange_cone\": 3\n",
        "               }"
      ]
    },
    {
      "cell_type": "code",
      "execution_count": 3,
      "metadata": {
        "colab": {
          "base_uri": "https://localhost:8080/"
        },
        "id": "AgRn8MpPebgX",
        "outputId": "849de049-99f0-4e6f-b225-343be979b878"
      },
      "outputs": [
        {
          "name": "stdout",
          "output_type": "stream",
          "text": [
            "(26508, 100, 100, 3)\n"
          ]
        }
      ],
      "source": [
        "pics = \"/Users/stephenmesser/Desktop/extracted_cones\"\n",
        "directory = os.fsdecode(pics)\n",
        "\n",
        "all_imgs = []\n",
        "all_labels = []\n",
        "\n",
        "for file_name in os.listdir(directory):\n",
        "\n",
        "  if 'cone' in file_name and 'unknown' not in file_name:\n",
        "\n",
        "    # add image to array\n",
        "    img = cv2.imread(f'{pics}/{file_name}')\n",
        "    res_image = cv2.resize(img, dsize=(100, 100))\n",
        "    all_imgs.append(res_image)\n",
        "\n",
        "    # add label to array\n",
        "    all_labels.append(colour_ints[file_name.split('_cone_')[0] + '_cone'])\n",
        "\n",
        "all_imgs = np.array(all_imgs)\n",
        "print(all_imgs.shape)"
      ]
    },
    {
      "cell_type": "code",
      "execution_count": null,
      "metadata": {
        "id": "JbSYcGG24N7p"
      },
      "outputs": [],
      "source": [
        "all_labels"
      ]
    },
    {
      "cell_type": "code",
      "execution_count": null,
      "metadata": {
        "id": "XI4TsB3m1iDU"
      },
      "outputs": [],
      "source": [
        "import matplotlib.pyplot as plt\n",
        "%matplotlib inline\n",
        "\n",
        "plt.subplot(2,2,1)\n",
        "plt.imshow(all_imgs[0], cmap=plt.get_cmap('gray'))\n",
        "plt.subplot(2,2,2)\n",
        "plt.imshow(all_imgs[1], cmap=plt.get_cmap('gray'))\n",
        "plt.subplot(2,2,3)\n",
        "plt.imshow(all_imgs[2], cmap=plt.get_cmap('gray'))\n",
        "plt.subplot(2,2,4)\n",
        "plt.imshow(all_imgs[61], cmap=plt.get_cmap('gray'))\n",
        "\n",
        "#show the plot\n",
        "plt.show()"
      ]
    },
    {
      "cell_type": "code",
      "execution_count": 4,
      "metadata": {
        "colab": {
          "base_uri": "https://localhost:8080/"
        },
        "id": "OfaH-0Nk3CDB",
        "outputId": "1885cc40-ad7b-43b9-85da-73aca0c64eaa"
      },
      "outputs": [],
      "source": [
        "#print(all_imgs[0])\n",
        "# SCALING\n",
        "all_imgs = all_imgs / 255\n",
        "#print(all_imgs[0])\n",
        "\n",
        "# ONE-HOT ENCODING\n",
        "all_labels = np_utils.to_categorical(all_labels)\n",
        "#print(all_labels)"
      ]
    },
    {
      "cell_type": "code",
      "execution_count": 5,
      "metadata": {
        "id": "b2elqb355Wzi"
      },
      "outputs": [
        {
          "data": {
            "text/plain": [
              "4"
            ]
          },
          "execution_count": 5,
          "metadata": {},
          "output_type": "execute_result"
        }
      ],
      "source": [
        "num_classes = all_labels.shape[1]\n",
        "num_classes"
      ]
    },
    {
      "cell_type": "code",
      "execution_count": 6,
      "metadata": {
        "id": "vaFc0rMJ6Owj"
      },
      "outputs": [],
      "source": [
        "reviews_train, reviews_test, y_train, y_test = train_test_split(all_imgs, all_labels, test_size=0.20)"
      ]
    },
    {
      "cell_type": "code",
      "execution_count": 7,
      "metadata": {},
      "outputs": [
        {
          "data": {
            "text/plain": [
              "21206"
            ]
          },
          "execution_count": 7,
          "metadata": {},
          "output_type": "execute_result"
        }
      ],
      "source": [
        "len(reviews_train)"
      ]
    },
    {
      "cell_type": "code",
      "execution_count": 12,
      "metadata": {
        "id": "DhNMkDcL5MWA"
      },
      "outputs": [],
      "source": [
        "def cnn_model():\n",
        "    model = Sequential()\n",
        "    model.add(Conv2D(32, (5, 5), input_shape=(100, 100, 3), activation='relu'))\n",
        "    model.add(MaxPooling2D(strides=(2, 2)))\n",
        "    model.add(Dropout(0.2))\n",
        "    model.add(Flatten())\n",
        "    model.add(Dense(128, activation='relu'))\n",
        "    model.add(Dense(num_classes, activation='softmax'))\n",
        "    #Compile/train model\n",
        "    model.compile(loss='categorical_crossentropy', optimizer='sgd', metrics=['accuracy'])\n",
        "    return model\n"
      ]
    },
    {
      "cell_type": "code",
      "execution_count": 13,
      "metadata": {
        "colab": {
          "base_uri": "https://localhost:8080/"
        },
        "id": "D9vouKco5Olr",
        "outputId": "739d1914-bc64-4ba3-a27b-b38f920105c0"
      },
      "outputs": [
        {
          "name": "stdout",
          "output_type": "stream",
          "text": [
            "Model: \"sequential_1\"\n",
            "_________________________________________________________________\n",
            " Layer (type)                Output Shape              Param #   \n",
            "=================================================================\n",
            " conv2d_1 (Conv2D)           (None, 96, 96, 32)        2432      \n",
            "                                                                 \n",
            " max_pooling2d_1 (MaxPooling  (None, 48, 48, 32)       0         \n",
            " 2D)                                                             \n",
            "                                                                 \n",
            " dropout_1 (Dropout)         (None, 48, 48, 32)        0         \n",
            "                                                                 \n",
            " flatten_1 (Flatten)         (None, 73728)             0         \n",
            "                                                                 \n",
            " dense_2 (Dense)             (None, 128)               9437312   \n",
            "                                                                 \n",
            " dense_3 (Dense)             (None, 4)                 516       \n",
            "                                                                 \n",
            "=================================================================\n",
            "Total params: 9,440,260\n",
            "Trainable params: 9,440,260\n",
            "Non-trainable params: 0\n",
            "_________________________________________________________________\n",
            "Epoch 1/6\n",
            "85/85 [==============================] - 67s 776ms/step - loss: 0.5589 - accuracy: 0.8065 - val_loss: 0.2351 - val_accuracy: 0.9389\n",
            "Epoch 2/6\n",
            "85/85 [==============================] - 56s 654ms/step - loss: 0.2022 - accuracy: 0.9406 - val_loss: 0.3075 - val_accuracy: 0.9095\n",
            "Epoch 3/6\n",
            "85/85 [==============================] - 54s 632ms/step - loss: 0.1754 - accuracy: 0.9488 - val_loss: 0.1552 - val_accuracy: 0.9540\n",
            "Epoch 4/6\n",
            "85/85 [==============================] - 53s 624ms/step - loss: 0.1564 - accuracy: 0.9550 - val_loss: 0.1509 - val_accuracy: 0.9576\n",
            "Epoch 5/6\n",
            "85/85 [==============================] - 53s 618ms/step - loss: 0.1458 - accuracy: 0.9577 - val_loss: 0.1744 - val_accuracy: 0.9451\n",
            "Epoch 6/6\n",
            "85/85 [==============================] - 53s 620ms/step - loss: 0.1441 - accuracy: 0.9572 - val_loss: 0.1384 - val_accuracy: 0.9576\n",
            "CNN Accuracy: 95.98%\n"
          ]
        }
      ],
      "source": [
        "#define the model\n",
        "model = cnn_model()\n",
        "model.summary()\n",
        "#train the model\n",
        "training = model.fit(reviews_train, y_train, validation_split = 0.2, epochs=6, batch_size=200)\n",
        "#Evaluation of the model\n",
        "scores = model.evaluate(reviews_test, y_test, verbose=0)\n",
        "print(\"CNN Accuracy: %.2f%%\" % (scores[1]*100))"
      ]
    },
    {
      "cell_type": "code",
      "execution_count": 14,
      "metadata": {},
      "outputs": [],
      "source": [
        "model.save('cones_model.keras')"
      ]
    }
  ],
  "metadata": {
    "colab": {
      "provenance": []
    },
    "kernelspec": {
      "display_name": "Python 3",
      "name": "python3"
    },
    "language_info": {
      "codemirror_mode": {
        "name": "ipython",
        "version": 3
      },
      "file_extension": ".py",
      "mimetype": "text/x-python",
      "name": "python",
      "nbconvert_exporter": "python",
      "pygments_lexer": "ipython3",
      "version": "3.9.12"
    }
  },
  "nbformat": 4,
  "nbformat_minor": 0
}
